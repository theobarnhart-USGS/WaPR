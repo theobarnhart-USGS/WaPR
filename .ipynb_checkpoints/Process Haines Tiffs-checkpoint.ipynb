{
 "cells": [
  {
   "cell_type": "markdown",
   "metadata": {},
   "source": [
    "### Script to reprocess the Haines IHS data tiffs"
   ]
  },
  {
   "cell_type": "code",
   "execution_count": 1,
   "metadata": {
    "collapsed": true
   },
   "outputs": [],
   "source": [
    "import gdal\n",
    "import subprocess\n",
    "import ntpath"
   ]
  },
  {
   "cell_type": "code",
   "execution_count": 2,
   "metadata": {
    "collapsed": true
   },
   "outputs": [],
   "source": [
    "files = glob.glob('../UOG/data/haines_tiffs/treatment_water_*.tif')"
   ]
  },
  {
   "cell_type": "code",
   "execution_count": 3,
   "metadata": {},
   "outputs": [],
   "source": [
    "ndOut = -9999\n",
    "dtype = 'Float64'\n",
    "fl = files[0]\n",
    "pth = fl[:-24]\n",
    "name = 'treatment_water_'\n",
    "ext = '.tiff'"
   ]
  },
  {
   "cell_type": "code",
   "execution_count": 6,
   "metadata": {},
   "outputs": [],
   "source": [
    "def reprocess(fl):\n",
    "    ds = gdal.Open(fl,gdal.GA_ReadOnly)\n",
    "    nd = ds.GetRasterBand(1).GetNoDataValue()\n",
    "    year = int(fl.split('/')[-1].split('_')[-1].split('.')[0])\n",
    "    outname = '%s%s%s_%s%s'%(pth,name,year,dtype,ext)\n",
    "    print(outname)\n",
    "    cmd = 'gdalwarp -srcnodata %s -dstnodata %s -ot %s %s %s'%(nd,ndOut,dtype,fl,outname)\n",
    "    subprocess.call(cmd,shell=True)"
   ]
  },
  {
   "cell_type": "code",
   "execution_count": 7,
   "metadata": {
    "scrolled": true
   },
   "outputs": [
    {
     "name": "stdout",
     "output_type": "stream",
     "text": [
      "../UOG/data/haines_tiffs/treatment_water_1980_Float64.tiff\n",
      "../UOG/data/haines_tiffs/treatment_water_1981_Float64.tiff\n",
      "../UOG/data/haines_tiffs/treatment_water_1982_Float64.tiff\n",
      "../UOG/data/haines_tiffs/treatment_water_1983_Float64.tiff\n",
      "../UOG/data/haines_tiffs/treatment_water_1984_Float64.tiff\n",
      "../UOG/data/haines_tiffs/treatment_water_1985_Float64.tiff\n",
      "../UOG/data/haines_tiffs/treatment_water_1986_Float64.tiff\n",
      "../UOG/data/haines_tiffs/treatment_water_1987_Float64.tiff\n",
      "../UOG/data/haines_tiffs/treatment_water_1988_Float64.tiff\n",
      "../UOG/data/haines_tiffs/treatment_water_1989_Float64.tiff\n",
      "../UOG/data/haines_tiffs/treatment_water_1990_Float64.tiff\n",
      "../UOG/data/haines_tiffs/treatment_water_1991_Float64.tiff\n",
      "../UOG/data/haines_tiffs/treatment_water_1992_Float64.tiff\n",
      "../UOG/data/haines_tiffs/treatment_water_1993_Float64.tiff\n",
      "../UOG/data/haines_tiffs/treatment_water_1994_Float64.tiff\n",
      "../UOG/data/haines_tiffs/treatment_water_1995_Float64.tiff\n",
      "../UOG/data/haines_tiffs/treatment_water_1996_Float64.tiff\n",
      "../UOG/data/haines_tiffs/treatment_water_1997_Float64.tiff\n",
      "../UOG/data/haines_tiffs/treatment_water_1998_Float64.tiff\n",
      "../UOG/data/haines_tiffs/treatment_water_1999_Float64.tiff\n",
      "../UOG/data/haines_tiffs/treatment_water_2000_Float64.tiff\n",
      "../UOG/data/haines_tiffs/treatment_water_2001_Float64.tiff\n",
      "../UOG/data/haines_tiffs/treatment_water_2002_Float64.tiff\n",
      "../UOG/data/haines_tiffs/treatment_water_2003_Float64.tiff\n",
      "../UOG/data/haines_tiffs/treatment_water_2004_Float64.tiff\n",
      "../UOG/data/haines_tiffs/treatment_water_2005_Float64.tiff\n",
      "../UOG/data/haines_tiffs/treatment_water_2006_Float64.tiff\n",
      "../UOG/data/haines_tiffs/treatment_water_2007_Float64.tiff\n",
      "../UOG/data/haines_tiffs/treatment_water_2008_Float64.tiff\n",
      "../UOG/data/haines_tiffs/treatment_water_2009_Float64.tiff\n",
      "../UOG/data/haines_tiffs/treatment_water_2010_Float64.tiff\n",
      "../UOG/data/haines_tiffs/treatment_water_2011_Float64.tiff\n",
      "../UOG/data/haines_tiffs/treatment_water_2012_Float64.tiff\n",
      "../UOG/data/haines_tiffs/treatment_water_2013_Float64.tiff\n",
      "../UOG/data/haines_tiffs/treatment_water_2014_Float64.tiff\n",
      "../UOG/data/haines_tiffs/treatment_water_2015_Float64.tiff\n",
      "../UOG/data/haines_tiffs/treatment_water_2016_Float64.tiff\n"
     ]
    }
   ],
   "source": [
    "for fl in files:\n",
    "    reprocess(fl)"
   ]
  },
  {
   "cell_type": "code",
   "execution_count": 10,
   "metadata": {},
   "outputs": [
    {
     "name": "stdout",
     "output_type": "stream",
     "text": [
      "Driver: GTiff/GeoTIFF\r\n",
      "Files: ../UOG/data/haines_tiffs/treatment_water_1980_Float64.tiff\r\n",
      "Size is 466, 448\r\n",
      "Coordinate System is:\r\n",
      "PROJCS[\"LTUC_lambert_conformal_conic_ft\",\r\n",
      "    GEOGCS[\"NAD83\",\r\n",
      "        DATUM[\"North_American_Datum_1983\",\r\n",
      "            SPHEROID[\"GRS 1980\",6378137,298.2572221010042,\r\n",
      "                AUTHORITY[\"EPSG\",\"7019\"]],\r\n",
      "            AUTHORITY[\"EPSG\",\"6269\"]],\r\n",
      "        PRIMEM[\"Greenwich\",0],\r\n",
      "        UNIT[\"degree\",0.0174532925199433],\r\n",
      "        AUTHORITY[\"EPSG\",\"4269\"]],\r\n",
      "    PROJECTION[\"Lambert_Conformal_Conic_2SP\"],\r\n",
      "    PARAMETER[\"standard_parallel_1\",33],\r\n",
      "    PARAMETER[\"standard_parallel_2\",45],\r\n",
      "    PARAMETER[\"latitude_of_origin\",0],\r\n",
      "    PARAMETER[\"central_meridian\",-104],\r\n",
      "    PARAMETER[\"false_easting\",0],\r\n",
      "    PARAMETER[\"false_northing\",0],\r\n",
      "    UNIT[\"US survey foot\",0.3048006096012192,\r\n",
      "        AUTHORITY[\"EPSG\",\"9003\"]]]\r\n",
      "Origin = (-1127952.760083764791489,19530138.164061054587364)\r\n",
      "Pixel Size = (5280.000000000000000,-5280.000000000000000)\r\n",
      "Metadata:\r\n",
      "  AREA_OR_POINT=Area\r\n",
      "Image Structure Metadata:\r\n",
      "  INTERLEAVE=BAND\r\n",
      "Corner Coordinates:\r\n",
      "Upper Left  (-1127952.760,19530138.164) (108d48' 7.59\"W, 50d51'23.37\"N)\r\n",
      "Lower Left  (-1127952.760,17164698.164) (108d19'24.23\"W, 44d25'25.98\"N)\r\n",
      "Upper Right ( 1332527.240,19530138.164) ( 98d19'44.51\"W, 50d49'29.11\"N)\r\n",
      "Lower Right ( 1332527.240,17164698.164) ( 98d53'38.40\"W, 44d23'41.11\"N)\r\n",
      "Center      (  102287.240,18347418.164) (103d35'13.30\"W, 47d43'55.74\"N)\r\n",
      "Band 1 Block=466x2 Type=Float64, ColorInterp=Gray\r\n",
      "  NoData Value=-9999\r\n",
      "  Metadata:\r\n",
      "    RepresentationType=ATHEMATIC\r\n"
     ]
    }
   ],
   "source": [
    "! gdalinfo ../UOG/data/haines_tiffs/treatment_water_1980_Float64.tiff"
   ]
  },
  {
   "cell_type": "code",
   "execution_count": null,
   "metadata": {
    "collapsed": true
   },
   "outputs": [],
   "source": []
  }
 ],
 "metadata": {
  "kernelspec": {
   "display_name": "Python 3",
   "language": "python",
   "name": "python3"
  },
  "language_info": {
   "codemirror_mode": {
    "name": "ipython",
    "version": 3
   },
   "file_extension": ".py",
   "mimetype": "text/x-python",
   "name": "python",
   "nbconvert_exporter": "python",
   "pygments_lexer": "ipython3",
   "version": "3.6.2"
  }
 },
 "nbformat": 4,
 "nbformat_minor": 2
}
