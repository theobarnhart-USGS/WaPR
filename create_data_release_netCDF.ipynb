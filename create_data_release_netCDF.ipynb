{
 "cells": [
  {
   "cell_type": "markdown",
   "metadata": {},
   "source": [
    "## Script to group the WaPR water use data into a single netCDF file"
   ]
  },
  {
   "cell_type": "code",
   "execution_count": 1,
   "metadata": {
    "collapsed": true
   },
   "outputs": [],
   "source": [
    "from netCDF4 import Dataset\n",
    "import rasterio as rs\n",
    "from affine import Affine\n",
    "from pyproj import Proj, transform"
   ]
  },
  {
   "cell_type": "code",
   "execution_count": 2,
   "metadata": {
    "collapsed": true
   },
   "outputs": [],
   "source": [
    "# create x and y grids for the cell centers\n",
    "\n",
    "with rs.open('../UOG/data/haines_tiffs/treatment_water_2008_Float64.tiff') as ds:\n",
    "    T0 = ds.affine # upper left pixel corner affine transform\n",
    "    A = ds.read(1) # get pixel values\n",
    "    cs = T0[0] # get cell size\n",
    "    \n",
    "# generate rows and columns\n",
    "cols,rows = np.meshgrid(np.arange(A.shape[1]), np.arange(A.shape[0]))"
   ]
  },
  {
   "cell_type": "code",
   "execution_count": 3,
   "metadata": {
    "collapsed": true
   },
   "outputs": [],
   "source": [
    "ds.crs['units'] = 'us-ft' # correct the units from the tif image\n",
    "ds.crs['to_meter'] = 0.304800609601219 # add the to meters correction"
   ]
  },
  {
   "cell_type": "code",
   "execution_count": 4,
   "metadata": {
    "collapsed": true
   },
   "outputs": [],
   "source": [
    "p1 = Proj(ds.crs, preserve_units=True) # generate the proj4 instance for the dataset's native projection"
   ]
  },
  {
   "cell_type": "code",
   "execution_count": 5,
   "metadata": {
    "collapsed": true
   },
   "outputs": [],
   "source": [
    "T1 = T0 * Affine.translation(0.5,0.5) # get affine transform for pixel centers\n",
    "rc2en = lambda r,c: (c,r) * T1 # function to convert row/col index to easting/northing at centre\n",
    "eastings,northings  = np.vectorize(rc2en)(rows,cols) # create grids of cell centers"
   ]
  },
  {
   "cell_type": "code",
   "execution_count": 6,
   "metadata": {
    "collapsed": true
   },
   "outputs": [],
   "source": [
    "m,n = eastings.shape # y,x format\n",
    "x = np.reshape(eastings,(m*n))\n",
    "y = np.reshape(northings,(m*n))"
   ]
  },
  {
   "cell_type": "code",
   "execution_count": 7,
   "metadata": {},
   "outputs": [
    {
     "name": "stdout",
     "output_type": "stream",
     "text": [
      "448 466\n"
     ]
    },
    {
     "data": {
      "image/png": "[encoded data removed]",
      "text/plain": [
       "<matplotlib.figure.Figure at 0x7f2c843f95f8>"
      ]
     },
     "metadata": {},
     "output_type": "display_data"
    }
   ],
   "source": [
    "# check that the data are square\n",
    "print(m,n)\n",
    "plt.figure(figsize=(10,10));\n",
    "plt.plot(x,y,'.k');\n",
    "plt.axis('equal');\n",
    "plt.ylim(1.8e7,1.81e7);\n",
    "plt.xlim(-25000,25000);\n",
    "plt.title('looks good (square)!');"
   ]
  },
  {
   "cell_type": "markdown",
   "metadata": {},
   "source": [
    "## check the min/max of the projected coodinates agains gdalinfo and account for the cell size\n",
    "\n",
    "$ gdalinfo treatment_water_1980.tif\n",
    "\n",
    "Upper Left  (-1127952.760,19530138.164) (108d48' 7.59\"W, 50d51'23.37\"N)\n",
    "\n",
    "Lower Left  (-1127952.760,17164698.164) (108d19'24.23\"W, 44d25'25.98\"N)\n",
    "\n",
    "Upper Right ( 1332527.240,19530138.164) ( 98d19'44.51\"W, 50d49'29.11\"N)\n",
    "\n",
    "Lower Right ( 1332527.240,17164698.164) ( 98d53'38.40\"W, 44d23'41.11\"N)\n",
    "\n",
    "Center      (  102287.240,18347418.164) (103d35'13.30\"W, 47d43'55.74\"N)"
   ]
  },
  {
   "cell_type": "code",
   "execution_count": 8,
   "metadata": {},
   "outputs": [
    {
     "name": "stdout",
     "output_type": "stream",
     "text": [
      "Driver: GTiff/GeoTIFF\n",
      "Files: ../UOG/data/haines_tiffs/treatment_water_1980_Float64.tiff\n",
      "Size is 466, 448\n",
      "Coordinate System is:\n",
      "PROJCS[\"LTUC_lambert_conformal_conic_ft\",\n",
      "    GEOGCS[\"NAD83\",\n",
      "        DATUM[\"North_American_Datum_1983\",\n",
      "            SPHEROID[\"GRS 1980\",6378137,298.2572221010042,\n",
      "                AUTHORITY[\"EPSG\",\"7019\"]],\n",
      "            AUTHORITY[\"EPSG\",\"6269\"]],\n",
      "        PRIMEM[\"Greenwich\",0],\n",
      "        UNIT[\"degree\",0.0174532925199433],\n",
      "        AUTHORITY[\"EPSG\",\"4269\"]],\n",
      "    PROJECTION[\"Lambert_Conformal_Conic_2SP\"],\n",
      "    PARAMETER[\"standard_parallel_1\",33],\n",
      "    PARAMETER[\"standard_parallel_2\",45],\n",
      "    PARAMETER[\"latitude_of_origin\",0],\n",
      "    PARAMETER[\"central_meridian\",-104],\n",
      "    PARAMETER[\"false_easting\",0],\n",
      "    PARAMETER[\"false_northing\",0],\n",
      "    UNIT[\"US survey foot\",0.3048006096012192,\n",
      "        AUTHORITY[\"EPSG\",\"9003\"]]]\n",
      "Origin = (-1127952.760083764791489,19530138.164061054587364)\n",
      "Pixel Size = (5280.000000000000000,-5280.000000000000000)\n",
      "Metadata:\n",
      "  AREA_OR_POINT=Area\n",
      "Image Structure Metadata:\n",
      "  INTERLEAVE=BAND\n",
      "Corner Coordinates:\n",
      "Upper Left  (-1127952.760,19530138.164) (108d48' 7.59\"W, 50d51'23.37\"N)\n",
      "Lower Left  (-1127952.760,17164698.164) (108d19'24.23\"W, 44d25'25.98\"N)\n",
      "Upper Right ( 1332527.240,19530138.164) ( 98d19'44.51\"W, 50d49'29.11\"N)\n",
      "Lower Right ( 1332527.240,17164698.164) ( 98d53'38.40\"W, 44d23'41.11\"N)\n",
      "Center      (  102287.240,18347418.164) (103d35'13.30\"W, 47d43'55.74\"N)\n",
      "Band 1 Block=466x2 Type=Float64, ColorInterp=Gray\n",
      "  NoData Value=-9999\n",
      "  Metadata:\n",
      "    RepresentationType=ATHEMATIC\n"
     ]
    }
   ],
   "source": [
    "! gdalinfo ../UOG/data/haines_tiffs/treatment_water_1980_Float64.tiff"
   ]
  },
  {
   "cell_type": "code",
   "execution_count": 9,
   "metadata": {},
   "outputs": [
    {
     "name": "stdout",
     "output_type": "stream",
     "text": [
      "Upper Left: (-1127952.76,19530138.164)\n",
      "Lower Right: (1332527.24,17164698.164)\n"
     ]
    }
   ],
   "source": [
    "print('Upper Left: (%s,%s)'%(round(x.min()-(cs/2),3),round(y.max()+(cs/2),3)))\n",
    "print('Lower Right: (%s,%s)'%(round(x.max()+(cs/2),3),round(y.min()-(cs/2),3)))"
   ]
  },
  {
   "cell_type": "markdown",
   "metadata": {},
   "source": [
    "## Looks good!\n",
    "\n",
    "## Create the variables for the dataset"
   ]
  },
  {
   "cell_type": "code",
   "execution_count": 10,
   "metadata": {},
   "outputs": [
    {
     "ename": "NameError",
     "evalue": "name 'out' is not defined",
     "output_type": "error",
     "traceback": [
      "\u001b[0;31m---------------------------------------------------------------------------\u001b[0m",
      "\u001b[0;31mNameError\u001b[0m                                 Traceback (most recent call last)",
      "\u001b[0;32m<ipython-input-10-9cd713df45b4>\u001b[0m in \u001b[0;36m<module>\u001b[0;34m()\u001b[0m\n\u001b[0;32m----> 1\u001b[0;31m \u001b[0mout\u001b[0m\u001b[0;34m.\u001b[0m\u001b[0mclose\u001b[0m\u001b[0;34m(\u001b[0m\u001b[0;34m)\u001b[0m\u001b[0;34m\u001b[0m\u001b[0m\n\u001b[0m",
      "\u001b[0;31mNameError\u001b[0m: name 'out' is not defined"
     ]
    }
   ],
   "source": [
    "out.close()"
   ]
  },
  {
   "cell_type": "code",
   "execution_count": 11,
   "metadata": {
    "collapsed": true
   },
   "outputs": [],
   "source": [
    "data = Dataset('../UOG/data/haines_tiffs/test.nc')"
   ]
  },
  {
   "cell_type": "code",
   "execution_count": 12,
   "metadata": {},
   "outputs": [
    {
     "data": {
      "text/plain": [
       "OrderedDict([('lambert_conformal_conic', <class 'netCDF4._netCDF4.Variable'>\n",
       "              |S1 lambert_conformal_conic()\n",
       "                  grid_mapping_name: lambert_conformal_conic\n",
       "                  longitude_of_central_meridian: -104.0\n",
       "                  false_easting: 0.0\n",
       "                  false_northing: 0.0\n",
       "                  latitude_of_projection_origin: 0.0\n",
       "                  standard_parallel: [ 33.  45.]\n",
       "                  longitude_of_prime_meridian: 0.0\n",
       "                  semi_major_axis: 6378137.0\n",
       "                  inverse_flattening: 298.257222101\n",
       "                  spatial_ref: PROJCS[\"LTUC_lambert_conformal_conic_ft\",GEOGCS[\"NAD83\",DATUM[\"North_American_Datum_1983\",SPHEROID[\"GRS 1980\",6378137,298.2572221010002,AUTHORITY[\"EPSG\",\"7019\"]],AUTHORITY[\"EPSG\",\"6269\"]],PRIMEM[\"Greenwich\",0],UNIT[\"degree\",0.0174532925199433],AUTHORITY[\"EPSG\",\"4269\"]],PROJECTION[\"Lambert_Conformal_Conic_2SP\"],PARAMETER[\"standard_parallel_1\",33],PARAMETER[\"standard_parallel_2\",45],PARAMETER[\"latitude_of_origin\",0],PARAMETER[\"central_meridian\",-104],PARAMETER[\"false_easting\",0],PARAMETER[\"false_northing\",0],UNIT[\"US survey foot\",0.3048006096012192,AUTHORITY[\"EPSG\",\"9003\"]]]\n",
       "                  GeoTransform: -1127952.760083765 5280 0 19530138.16406105 0 -5280 \n",
       "              unlimited dimensions: \n",
       "              current shape = ()\n",
       "              filling off), ('x', <class 'netCDF4._netCDF4.Variable'>\n",
       "              float64 x(x)\n",
       "                  standard_name: projection_x_coordinate\n",
       "                  long_name: x coordinate of projection\n",
       "                  units: \n",
       "              unlimited dimensions: \n",
       "              current shape = (466,)\n",
       "              filling off), ('y', <class 'netCDF4._netCDF4.Variable'>\n",
       "              float64 y(y)\n",
       "                  standard_name: projection_y_coordinate\n",
       "                  long_name: y coordinate of projection\n",
       "                  units: \n",
       "              unlimited dimensions: \n",
       "              current shape = (448,)\n",
       "              filling off), ('Band1', <class 'netCDF4._netCDF4.Variable'>\n",
       "              float64 Band1(y, x)\n",
       "                  long_name: GDAL Band Number 1\n",
       "                  _FillValue: -9999.0\n",
       "                  grid_mapping: lambert_conformal_conic\n",
       "              unlimited dimensions: \n",
       "              current shape = (448, 466)\n",
       "              filling off), ('Band2', <class 'netCDF4._netCDF4.Variable'>\n",
       "              float64 Band2(y, x)\n",
       "                  long_name: GDAL Band Number 2\n",
       "                  _FillValue: -9999.0\n",
       "              unlimited dimensions: \n",
       "              current shape = (448, 466)\n",
       "              filling off), ('Band3', <class 'netCDF4._netCDF4.Variable'>\n",
       "              float64 Band3(y, x)\n",
       "                  long_name: GDAL Band Number 3\n",
       "                  _FillValue: -9999.0\n",
       "              unlimited dimensions: \n",
       "              current shape = (448, 466)\n",
       "              filling off), ('Band4', <class 'netCDF4._netCDF4.Variable'>\n",
       "              float64 Band4(y, x)\n",
       "                  long_name: GDAL Band Number 4\n",
       "                  _FillValue: -9999.0\n",
       "              unlimited dimensions: \n",
       "              current shape = (448, 466)\n",
       "              filling off), ('Band5', <class 'netCDF4._netCDF4.Variable'>\n",
       "              float64 Band5(y, x)\n",
       "                  long_name: GDAL Band Number 5\n",
       "                  _FillValue: -9999.0\n",
       "              unlimited dimensions: \n",
       "              current shape = (448, 466)\n",
       "              filling off), ('Band6', <class 'netCDF4._netCDF4.Variable'>\n",
       "              float64 Band6(y, x)\n",
       "                  long_name: GDAL Band Number 6\n",
       "                  _FillValue: -9999.0\n",
       "              unlimited dimensions: \n",
       "              current shape = (448, 466)\n",
       "              filling off), ('Band7', <class 'netCDF4._netCDF4.Variable'>\n",
       "              float64 Band7(y, x)\n",
       "                  long_name: GDAL Band Number 7\n",
       "                  _FillValue: -9999.0\n",
       "              unlimited dimensions: \n",
       "              current shape = (448, 466)\n",
       "              filling off), ('Band8', <class 'netCDF4._netCDF4.Variable'>\n",
       "              float64 Band8(y, x)\n",
       "                  long_name: GDAL Band Number 8\n",
       "                  _FillValue: -9999.0\n",
       "              unlimited dimensions: \n",
       "              current shape = (448, 466)\n",
       "              filling off), ('Band9', <class 'netCDF4._netCDF4.Variable'>\n",
       "              float64 Band9(y, x)\n",
       "                  long_name: GDAL Band Number 9\n",
       "                  _FillValue: -9999.0\n",
       "              unlimited dimensions: \n",
       "              current shape = (448, 466)\n",
       "              filling off), ('Band10', <class 'netCDF4._netCDF4.Variable'>\n",
       "              float64 Band10(y, x)\n",
       "                  long_name: GDAL Band Number 10\n",
       "                  _FillValue: -9999.0\n",
       "              unlimited dimensions: \n",
       "              current shape = (448, 466)\n",
       "              filling off), ('Band11', <class 'netCDF4._netCDF4.Variable'>\n",
       "              float64 Band11(y, x)\n",
       "                  long_name: GDAL Band Number 11\n",
       "                  _FillValue: -9999.0\n",
       "              unlimited dimensions: \n",
       "              current shape = (448, 466)\n",
       "              filling off), ('Band12', <class 'netCDF4._netCDF4.Variable'>\n",
       "              float64 Band12(y, x)\n",
       "                  long_name: GDAL Band Number 12\n",
       "                  _FillValue: -9999.0\n",
       "              unlimited dimensions: \n",
       "              current shape = (448, 466)\n",
       "              filling off), ('Band13', <class 'netCDF4._netCDF4.Variable'>\n",
       "              float64 Band13(y, x)\n",
       "                  long_name: GDAL Band Number 13\n",
       "                  _FillValue: -9999.0\n",
       "              unlimited dimensions: \n",
       "              current shape = (448, 466)\n",
       "              filling off), ('Band14', <class 'netCDF4._netCDF4.Variable'>\n",
       "              float64 Band14(y, x)\n",
       "                  long_name: GDAL Band Number 14\n",
       "                  _FillValue: -9999.0\n",
       "              unlimited dimensions: \n",
       "              current shape = (448, 466)\n",
       "              filling off), ('Band15', <class 'netCDF4._netCDF4.Variable'>\n",
       "              float64 Band15(y, x)\n",
       "                  long_name: GDAL Band Number 15\n",
       "                  _FillValue: -9999.0\n",
       "              unlimited dimensions: \n",
       "              current shape = (448, 466)\n",
       "              filling off), ('Band16', <class 'netCDF4._netCDF4.Variable'>\n",
       "              float64 Band16(y, x)\n",
       "                  long_name: GDAL Band Number 16\n",
       "                  _FillValue: -9999.0\n",
       "              unlimited dimensions: \n",
       "              current shape = (448, 466)\n",
       "              filling off), ('Band17', <class 'netCDF4._netCDF4.Variable'>\n",
       "              float64 Band17(y, x)\n",
       "                  long_name: GDAL Band Number 17\n",
       "                  _FillValue: -9999.0\n",
       "              unlimited dimensions: \n",
       "              current shape = (448, 466)\n",
       "              filling off), ('Band18', <class 'netCDF4._netCDF4.Variable'>\n",
       "              float64 Band18(y, x)\n",
       "                  long_name: GDAL Band Number 18\n",
       "                  _FillValue: -9999.0\n",
       "              unlimited dimensions: \n",
       "              current shape = (448, 466)\n",
       "              filling off), ('Band19', <class 'netCDF4._netCDF4.Variable'>\n",
       "              float64 Band19(y, x)\n",
       "                  long_name: GDAL Band Number 19\n",
       "                  _FillValue: -9999.0\n",
       "              unlimited dimensions: \n",
       "              current shape = (448, 466)\n",
       "              filling off), ('Band20', <class 'netCDF4._netCDF4.Variable'>\n",
       "              float64 Band20(y, x)\n",
       "                  long_name: GDAL Band Number 20\n",
       "                  _FillValue: -9999.0\n",
       "              unlimited dimensions: \n",
       "              current shape = (448, 466)\n",
       "              filling off), ('Band21', <class 'netCDF4._netCDF4.Variable'>\n",
       "              float64 Band21(y, x)\n",
       "                  long_name: GDAL Band Number 21\n",
       "                  _FillValue: -9999.0\n",
       "              unlimited dimensions: \n",
       "              current shape = (448, 466)\n",
       "              filling off), ('Band22', <class 'netCDF4._netCDF4.Variable'>\n",
       "              float64 Band22(y, x)\n",
       "                  long_name: GDAL Band Number 22\n",
       "                  _FillValue: -9999.0\n",
       "              unlimited dimensions: \n",
       "              current shape = (448, 466)\n",
       "              filling off), ('Band23', <class 'netCDF4._netCDF4.Variable'>\n",
       "              float64 Band23(y, x)\n",
       "                  long_name: GDAL Band Number 23\n",
       "                  _FillValue: -9999.0\n",
       "              unlimited dimensions: \n",
       "              current shape = (448, 466)\n",
       "              filling off), ('Band24', <class 'netCDF4._netCDF4.Variable'>\n",
       "              float64 Band24(y, x)\n",
       "                  long_name: GDAL Band Number 24\n",
       "                  _FillValue: -9999.0\n",
       "              unlimited dimensions: \n",
       "              current shape = (448, 466)\n",
       "              filling off), ('Band25', <class 'netCDF4._netCDF4.Variable'>\n",
       "              float64 Band25(y, x)\n",
       "                  long_name: GDAL Band Number 25\n",
       "                  _FillValue: -9999.0\n",
       "              unlimited dimensions: \n",
       "              current shape = (448, 466)\n",
       "              filling off), ('Band26', <class 'netCDF4._netCDF4.Variable'>\n",
       "              float64 Band26(y, x)\n",
       "                  long_name: GDAL Band Number 26\n",
       "                  _FillValue: -9999.0\n",
       "              unlimited dimensions: \n",
       "              current shape = (448, 466)\n",
       "              filling off), ('Band27', <class 'netCDF4._netCDF4.Variable'>\n",
       "              float64 Band27(y, x)\n",
       "                  long_name: GDAL Band Number 27\n",
       "                  _FillValue: -9999.0\n",
       "              unlimited dimensions: \n",
       "              current shape = (448, 466)\n",
       "              filling off), ('Band28', <class 'netCDF4._netCDF4.Variable'>\n",
       "              float64 Band28(y, x)\n",
       "                  long_name: GDAL Band Number 28\n",
       "                  _FillValue: -9999.0\n",
       "              unlimited dimensions: \n",
       "              current shape = (448, 466)\n",
       "              filling off), ('Band29', <class 'netCDF4._netCDF4.Variable'>\n",
       "              float64 Band29(y, x)\n",
       "                  long_name: GDAL Band Number 29\n",
       "                  _FillValue: -9999.0\n",
       "              unlimited dimensions: \n",
       "              current shape = (448, 466)\n",
       "              filling off), ('Band30', <class 'netCDF4._netCDF4.Variable'>\n",
       "              float64 Band30(y, x)\n",
       "                  long_name: GDAL Band Number 30\n",
       "                  _FillValue: -9999.0\n",
       "              unlimited dimensions: \n",
       "              current shape = (448, 466)\n",
       "              filling off), ('Band31', <class 'netCDF4._netCDF4.Variable'>\n",
       "              float64 Band31(y, x)\n",
       "                  long_name: GDAL Band Number 31\n",
       "                  _FillValue: -9999.0\n",
       "              unlimited dimensions: \n",
       "              current shape = (448, 466)\n",
       "              filling off), ('Band32', <class 'netCDF4._netCDF4.Variable'>\n",
       "              float64 Band32(y, x)\n",
       "                  long_name: GDAL Band Number 32\n",
       "                  _FillValue: -9999.0\n",
       "              unlimited dimensions: \n",
       "              current shape = (448, 466)\n",
       "              filling off), ('Band33', <class 'netCDF4._netCDF4.Variable'>\n",
       "              float64 Band33(y, x)\n",
       "                  long_name: GDAL Band Number 33\n",
       "                  _FillValue: -9999.0\n",
       "              unlimited dimensions: \n",
       "              current shape = (448, 466)\n",
       "              filling off), ('Band34', <class 'netCDF4._netCDF4.Variable'>\n",
       "              float64 Band34(y, x)\n",
       "                  long_name: GDAL Band Number 34\n",
       "                  _FillValue: -9999.0\n",
       "              unlimited dimensions: \n",
       "              current shape = (448, 466)\n",
       "              filling off), ('Band35', <class 'netCDF4._netCDF4.Variable'>\n",
       "              float64 Band35(y, x)\n",
       "                  long_name: GDAL Band Number 35\n",
       "                  _FillValue: -9999.0\n",
       "              unlimited dimensions: \n",
       "              current shape = (448, 466)\n",
       "              filling off), ('Band36', <class 'netCDF4._netCDF4.Variable'>\n",
       "              float64 Band36(y, x)\n",
       "                  long_name: GDAL Band Number 36\n",
       "                  _FillValue: -9999.0\n",
       "              unlimited dimensions: \n",
       "              current shape = (448, 466)\n",
       "              filling off), ('Band37', <class 'netCDF4._netCDF4.Variable'>\n",
       "              float64 Band37(y, x)\n",
       "                  long_name: GDAL Band Number 37\n",
       "                  _FillValue: -9999.0\n",
       "              unlimited dimensions: \n",
       "              current shape = (448, 466)\n",
       "              filling off)])"
      ]
     },
     "execution_count": 12,
     "metadata": {},
     "output_type": "execute_result"
    }
   ],
   "source": [
    "data.variables"
   ]
  },
  {
   "cell_type": "code",
   "execution_count": 13,
   "metadata": {
    "collapsed": true
   },
   "outputs": [],
   "source": [
    "out = Dataset('./data/wapr_treatment_water.nc','w',format='NETCDF4')"
   ]
  },
  {
   "cell_type": "code",
   "execution_count": 14,
   "metadata": {},
   "outputs": [
    {
     "data": {
      "text/plain": [
       "<class 'netCDF4._netCDF4.Dimension'> (unlimited): name = 'time', size = 0"
      ]
     },
     "execution_count": 14,
     "metadata": {},
     "output_type": "execute_result"
    }
   ],
   "source": [
    "# create the dimensions of the dataset\n",
    "out.createDimension('x',n)\n",
    "out.createDimension('y',m)\n",
    "out.createDimension('time',None)"
   ]
  },
  {
   "cell_type": "code",
   "execution_count": 15,
   "metadata": {
    "collapsed": true
   },
   "outputs": [],
   "source": [
    "Easting = out.createVariable('Easting','f4',('x','y'))\n",
    "Northing = out.createVariable('Northing','f4',('x','y'))\n",
    "Time = out.createVariable('Time','i4','time')\n",
    "TreatmentWater = out.createVariable('TreatmentWater',np.float64,('time','x','y'),fill_value=-9999)"
   ]
  },
  {
   "cell_type": "code",
   "execution_count": 16,
   "metadata": {
    "collapsed": true
   },
   "outputs": [],
   "source": [
    "# fill the netcdf file with spatial data\n",
    "Easting[:] = x\n",
    "Northing[:] = y"
   ]
  },
  {
   "cell_type": "code",
   "execution_count": 17,
   "metadata": {
    "collapsed": true
   },
   "outputs": [],
   "source": [
    "# create year and band variables\n",
    "years = []\n",
    "bands = []\n",
    "year = 1980\n",
    "for band in np.arange(1,38):\n",
    "    years.append(year)\n",
    "    bands.append('Band%s'%band)\n",
    "    year += 1\n",
    "    \n",
    "df = pd.DataFrame({'year':years,'band':bands})"
   ]
  },
  {
   "cell_type": "code",
   "execution_count": 18,
   "metadata": {
    "collapsed": true
   },
   "outputs": [],
   "source": [
    "df = df[(df.year>=2000) & (df.year <=2015)]"
   ]
  },
  {
   "cell_type": "code",
   "execution_count": 41,
   "metadata": {
    "collapsed": true
   },
   "outputs": [],
   "source": [
    "ct = 0\n",
    "for year,band in zip(df.year,df.band):\n",
    "    Time[ct] = year\n",
    "    rast = np.array(data.variables[band])\n",
    "    TreatmentWater[ct,:,:] = rast\n",
    "    ct += 1"
   ]
  },
  {
   "cell_type": "code",
   "execution_count": 20,
   "metadata": {},
   "outputs": [
    {
     "data": {
      "text/plain": [
       "dtype('float64')"
      ]
     },
     "execution_count": 20,
     "metadata": {},
     "output_type": "execute_result"
    }
   ],
   "source": [
    "np.array(data.variables['Band14']).dtype"
   ]
  },
  {
   "cell_type": "code",
   "execution_count": 21,
   "metadata": {},
   "outputs": [
    {
     "data": {
      "text/plain": [
       "<class 'netCDF4._netCDF4.Variable'>\n",
       "float64 TreatmentWater(time, x, y)\n",
       "    _FillValue: -9999.0\n",
       "unlimited dimensions: time\n",
       "current shape = (16, 466, 448)\n",
       "filling on"
      ]
     },
     "execution_count": 21,
     "metadata": {},
     "output_type": "execute_result"
    }
   ],
   "source": [
    "out.variables['TreatmentWater']"
   ]
  },
  {
   "cell_type": "code",
   "execution_count": 43,
   "metadata": {},
   "outputs": [
    {
     "data": {
      "text/plain": [
       "16"
      ]
     },
     "execution_count": 43,
     "metadata": {},
     "output_type": "execute_result"
    }
   ],
   "source": [
    "ct"
   ]
  },
  {
   "cell_type": "code",
   "execution_count": 44,
   "metadata": {
    "collapsed": true
   },
   "outputs": [],
   "source": [
    "rast = np.array(out.variables['TreatmentWater'][15,:,:])"
   ]
  },
  {
   "cell_type": "code",
   "execution_count": 45,
   "metadata": {},
   "outputs": [
    {
     "data": {
      "text/plain": [
       "dtype('float64')"
      ]
     },
     "execution_count": 45,
     "metadata": {},
     "output_type": "execute_result"
    }
   ],
   "source": [
    "rast.dtype"
   ]
  },
  {
   "cell_type": "code",
   "execution_count": 46,
   "metadata": {},
   "outputs": [
    {
     "data": {
      "text/plain": [
       "(0.0, 448.0, 0.0, 466.0)"
      ]
     },
     "execution_count": 46,
     "metadata": {},
     "output_type": "execute_result"
    },
    {
     "data": {
      "image/png": "[encoded data removed]",
      "text/plain": [
       "<matplotlib.figure.Figure at 0x7f2c83598128>"
      ]
     },
     "metadata": {},
     "output_type": "display_data"
    }
   ],
   "source": [
    "plt.figure(figsize=(10,10))\n",
    "plt.pcolormesh(rast)\n",
    "plt.axis('equal')"
   ]
  },
  {
   "cell_type": "code",
   "execution_count": 15,
   "metadata": {
    "collapsed": true
   },
   "outputs": [],
   "source": [
    "files = glob.glob('../UOG/data/haines_tiffs/treatment_water_*_Float64.tiff')"
   ]
  },
  {
   "cell_type": "code",
   "execution_count": 16,
   "metadata": {
    "collapsed": true
   },
   "outputs": [],
   "source": [
    "dat = pd.DataFrame({'file':files})"
   ]
  },
  {
   "cell_type": "code",
   "execution_count": 28,
   "metadata": {
    "collapsed": true
   },
   "outputs": [],
   "source": [
    "def get_year(fl): return int(fl.split('/')[-1].split('_')[-2])"
   ]
  },
  {
   "cell_type": "code",
   "execution_count": 23,
   "metadata": {},
   "outputs": [
    {
     "data": {
      "text/plain": [
       "'1980'"
      ]
     },
     "execution_count": 23,
     "metadata": {},
     "output_type": "execute_result"
    }
   ],
   "source": [
    "fl = files[0]\n",
    "fl.split('/')[-1].split('_')[-2]"
   ]
  },
  {
   "cell_type": "code",
   "execution_count": 29,
   "metadata": {
    "collapsed": true
   },
   "outputs": [],
   "source": [
    "dat['year'] = dat.file.map(get_year)"
   ]
  },
  {
   "cell_type": "code",
   "execution_count": 30,
   "metadata": {
    "collapsed": true
   },
   "outputs": [],
   "source": [
    "dat.sort_values(by='year',ascending=True, inplace=True) # sort by year"
   ]
  },
  {
   "cell_type": "code",
   "execution_count": 31,
   "metadata": {
    "collapsed": true
   },
   "outputs": [],
   "source": [
    "dat = dat.loc[(dat.year>=2006) & (dat.year <= 2015)]"
   ]
  },
  {
   "cell_type": "code",
   "execution_count": 32,
   "metadata": {
    "collapsed": true
   },
   "outputs": [],
   "source": [
    "import gdal"
   ]
  },
  {
   "cell_type": "code",
   "execution_count": 44,
   "metadata": {},
   "outputs": [
    {
     "name": "stdout",
     "output_type": "stream",
     "text": [
      "../UOG/data/haines_tiffs/treatment_water_2006_Float64.tiff\n",
      "Number: 0 -- min: -9999.0, max: 2457588.0, nodata: -9999.0\n",
      "../UOG/data/haines_tiffs/treatment_water_2007_Float64.tiff\n",
      "Number: 1 -- min: -9999.0, max: 5958540.0, nodata: -9999.0\n",
      "../UOG/data/haines_tiffs/treatment_water_2008_Float64.tiff\n",
      "Number: 2 -- min: -9999.0, max: 3286424.0, nodata: -9999.0\n",
      "../UOG/data/haines_tiffs/treatment_water_2009_Float64.tiff\n",
      "Number: 3 -- min: -9999.0, max: 8206548.0, nodata: -9999.0\n",
      "../UOG/data/haines_tiffs/treatment_water_2010_Float64.tiff\n",
      "Number: 4 -- min: -9999.0, max: 10864728.0, nodata: -9999.0\n",
      "../UOG/data/haines_tiffs/treatment_water_2011_Float64.tiff\n",
      "Number: 5 -- min: -9999.0, max: 12749100.0, nodata: -9999.0\n",
      "../UOG/data/haines_tiffs/treatment_water_2012_Float64.tiff\n",
      "Number: 6 -- min: -9999.0, max: 24524430.0, nodata: -9999.0\n",
      "../UOG/data/haines_tiffs/treatment_water_2013_Float64.tiff\n",
      "Number: 7 -- min: -9999.0, max: 43248072.0, nodata: -9999.0\n",
      "../UOG/data/haines_tiffs/treatment_water_2014_Float64.tiff\n",
      "Number: 8 -- min: -9999.0, max: 87505404.0, nodata: -9999.0\n",
      "../UOG/data/haines_tiffs/treatment_water_2015_Float64.tiff\n",
      "Number: 9 -- min: -9999.0, max: 109235784.0, nodata: -9999.0\n"
     ]
    }
   ],
   "source": [
    "# fill the treatmentwater and time variables\n",
    "ct = 0\n",
    "for year,fl in zip(dat.year.as_matrix(),dat.file.as_matrix()):\n",
    "    Time[ct] = year\n",
    "    print(fl)\n",
    "    ds = gdal.Open(fl,gdal.GA_ReadOnly)\n",
    "    tmp = np.array(ds.GetRasterBand(1).ReadAsArray(),dtype=np.float64)\n",
    "    nd = ds.GetRasterBand(1).GetNoDataValue()\n",
    "    rast = tmp.copy()\n",
    "    #rast[rast==nd] = np.NaN\n",
    "    #rast[rast > 2.0e9] = -9999\n",
    "    #rast[rast < 0] = -9999\n",
    "    #rast[np.isinf(rast)] = -9999\n",
    "    print('Number: %s -- min: %s, max: %s, nodata: %s'%(ct,np.nanmin(rast),np.nanmax(rast),nd))\n",
    "    #rast[np.isnan(rast)] = -9999\n",
    "    \n",
    "    TreatmentWater[ct,:,:] = rast\n",
    "    ct += 1\n",
    "    \n",
    "    #ds = rs.open(fl)\n",
    "    #print(fl)\n",
    "    #vals = np.array(ds.read(1),dtype=np.float64)    \n",
    "    #vals[vals==2147483647] = np.NaN\n",
    "    #vals[vals==4.29495731e+09] = np.NaN\n",
    "    #vals[vals==2.14748365e+09] = np.NaN\n",
    "    #vals[np.isinf(vals)] = np.NaN\n",
    "    #print(np.nansum(vals))\n",
    "    #vals[np.isnan(vals)] = -9999\n",
    "    #vals[vals<0] = -9999\n",
    "    \n",
    "    \n",
    "    "
   ]
  },
  {
   "cell_type": "code",
   "execution_count": 45,
   "metadata": {},
   "outputs": [
    {
     "data": {
      "text/plain": [
       "array([2006, 2007, 2008, 2009, 2010, 2011, 2012, 2013, 2014, 2015], dtype=int32)"
      ]
     },
     "execution_count": 45,
     "metadata": {},
     "output_type": "execute_result"
    }
   ],
   "source": [
    "np.array(out.variables['Time'])"
   ]
  },
  {
   "cell_type": "code",
   "execution_count": 46,
   "metadata": {},
   "outputs": [
    {
     "data": {
      "text/plain": [
       "<class 'netCDF4._netCDF4.Variable'>\n",
       "float64 TreatmentWater(time, x, y)\n",
       "    _FillValue: -9999.0\n",
       "unlimited dimensions: time\n",
       "current shape = (10, 466, 448)\n",
       "filling on"
      ]
     },
     "execution_count": 46,
     "metadata": {},
     "output_type": "execute_result"
    }
   ],
   "source": [
    "out.variables['TreatmentWater']"
   ]
  },
  {
   "cell_type": "code",
   "execution_count": 47,
   "metadata": {},
   "outputs": [
    {
     "data": {
      "text/plain": [
       "array([[-9999., -9999., -9999., ..., -9999., -9999., -9999.],\n",
       "       [-9999., -9999., -9999., ..., -9999., -9999., -9999.],\n",
       "       [-9999., -9999., -9999., ..., -9999., -9999., -9999.],\n",
       "       ..., \n",
       "       [-9999., -9999., -9999., ..., -9999., -9999., -9999.],\n",
       "       [-9999., -9999., -9999., ..., -9999., -9999., -9999.],\n",
       "       [-9999., -9999., -9999., ..., -9999., -9999., -9999.]])"
      ]
     },
     "execution_count": 47,
     "metadata": {},
     "output_type": "execute_result"
    }
   ],
   "source": [
    "np.array(out.variables['TreatmentWater'][1,:,:])"
   ]
  },
  {
   "cell_type": "code",
   "execution_count": 48,
   "metadata": {},
   "outputs": [
    {
     "data": {
      "text/plain": [
       "masked_array(data =\n",
       " [[-- -- -- ..., -- -- --]\n",
       " [-- -- -- ..., -- -- --]\n",
       " [-- -- -- ..., -- -- --]\n",
       " ..., \n",
       " [-- -- -- ..., -- -- --]\n",
       " [-- -- -- ..., -- -- --]\n",
       " [-- -- -- ..., -- -- --]],\n",
       "             mask =\n",
       " [[ True  True  True ...,  True  True  True]\n",
       " [ True  True  True ...,  True  True  True]\n",
       " [ True  True  True ...,  True  True  True]\n",
       " ..., \n",
       " [ True  True  True ...,  True  True  True]\n",
       " [ True  True  True ...,  True  True  True]\n",
       " [ True  True  True ...,  True  True  True]],\n",
       "       fill_value = -9999.0)"
      ]
     },
     "execution_count": 48,
     "metadata": {},
     "output_type": "execute_result"
    }
   ],
   "source": [
    "out.variables['TreatmentWater'][9,:,:]"
   ]
  },
  {
   "cell_type": "code",
   "execution_count": 51,
   "metadata": {},
   "outputs": [
    {
     "data": {
      "text/plain": [
       "<matplotlib.colorbar.Colorbar at 0x7f87c3cd5908>"
      ]
     },
     "execution_count": 51,
     "metadata": {},
     "output_type": "execute_result"
    },
    {
     "data": {
      "image/png": "[encoded data removed]",
      "text/plain": [
       "<matplotlib.figure.Figure at 0x7f87c69f15f8>"
      ]
     },
     "metadata": {},
     "output_type": "display_data"
    }
   ],
   "source": [
    "plt.figure(figsize=(10,10))\n",
    "rast = out.variables['TreatmentWater'][9,:,:]\n",
    "plt.pcolormesh(np.flipud(rast),vmin=0,vmax=np.nanmax(rast))\n",
    "plt.axis('equal')\n",
    "plt.colorbar()"
   ]
  },
  {
   "cell_type": "code",
   "execution_count": 43,
   "metadata": {},
   "outputs": [
    {
     "data": {
      "text/plain": [
       "(0.0, 448.0, 0.0, 466.0)"
      ]
     },
     "execution_count": 43,
     "metadata": {},
     "output_type": "execute_result"
    },
    {
     "name": "stderr",
     "output_type": "stream",
     "text": [
      "/home/tbarnhart/miniconda3/envs/py36/lib/python3.6/site-packages/matplotlib/colors.py:496: RuntimeWarning: invalid value encountered in less\n",
      "  cbook._putmask(xa, xa < 0.0, -1)\n"
     ]
    },
    {
     "data": {
      "image/png": "[encoded data removed]",
      "text/plain": [
       "<matplotlib.figure.Figure at 0x7f87c7918e48>"
      ]
     },
     "metadata": {},
     "output_type": "display_data"
    }
   ],
   "source": [
    "ma = np.ma.masked_array(rast,rast==-9999)\n",
    "plt.figure(figsize=(10,10))\n",
    "plt.pcolormesh(np.flipud(ma))\n",
    "plt.axis('equal')"
   ]
  },
  {
   "cell_type": "code",
   "execution_count": 174,
   "metadata": {},
   "outputs": [
    {
     "data": {
      "text/plain": [
       "(0.0, 448.0, 0.0, 466.0)"
      ]
     },
     "execution_count": 174,
     "metadata": {},
     "output_type": "execute_result"
    },
    {
     "data": {
      "image/png": "[encoded data removed]",
      "text/plain": [
       "<matplotlib.figure.Figure at 0x7fc3d3a5f0f0>"
      ]
     },
     "metadata": {},
     "output_type": "display_data"
    }
   ],
   "source": [
    "plt.figure(figsize=(10,10))\n",
    "plt.pcolormesh(np.array(out.variables['TreatmentWater'][1,:,:]))\n",
    "plt.axis('equal')"
   ]
  },
  {
   "cell_type": "code",
   "execution_count": 175,
   "metadata": {},
   "outputs": [
    {
     "data": {
      "text/plain": [
       "'../UOG/data/haines_tiffs/treatment_water_2015.tif'"
      ]
     },
     "execution_count": 175,
     "metadata": {},
     "output_type": "execute_result"
    }
   ],
   "source": [
    "fl"
   ]
  },
  {
   "cell_type": "code",
   "execution_count": 223,
   "metadata": {},
   "outputs": [
    {
     "data": {
      "text/plain": [
       "<matplotlib.colorbar.Colorbar at 0x7fc3ceac5128>"
      ]
     },
     "execution_count": 223,
     "metadata": {},
     "output_type": "execute_result"
    },
    {
     "data": {
      "image/png": "[encoded data removed]",
      "text/plain": [
       "<matplotlib.figure.Figure at 0x7fc3ceb45358>"
      ]
     },
     "metadata": {},
     "output_type": "display_data"
    }
   ],
   "source": [
    "plt.figure(figsize=(10,10))\n",
    "plt.pcolormesh(np.flipud(np.ma.masked_array(vals,vals==-9999)))\n",
    "plt.axis('equal')\n",
    "plt.colorbar()"
   ]
  },
  {
   "cell_type": "code",
   "execution_count": 219,
   "metadata": {},
   "outputs": [
    {
     "data": {
      "text/plain": [
       "(0.0, 466.0, 0.0, 448.0)"
      ]
     },
     "execution_count": 219,
     "metadata": {},
     "output_type": "execute_result"
    },
    {
     "data": {
      "image/png": "[encoded data removed]",
      "text/plain": [
       "<matplotlib.figure.Figure at 0x7fc3ceb38748>"
      ]
     },
     "metadata": {},
     "output_type": "display_data"
    }
   ],
   "source": [
    "plt.figure(figsize=(10,10))\n",
    "plt.pcolormesh(np.flipud(ds.read(1)))\n",
    "plt.axis('equal')"
   ]
  },
  {
   "cell_type": "code",
   "execution_count": 129,
   "metadata": {},
   "outputs": [
    {
     "data": {
      "text/plain": [
       "<open RasterReader name='../UOG/data/haines_tiffs/treatment_water_2015.tif' mode='r'>"
      ]
     },
     "execution_count": 129,
     "metadata": {},
     "output_type": "execute_result"
    }
   ],
   "source": [
    "ds"
   ]
  },
  {
   "cell_type": "code",
   "execution_count": null,
   "metadata": {
    "collapsed": true
   },
   "outputs": [],
   "source": []
  }
 ],
 "metadata": {
  "kernelspec": {
   "display_name": "Python 3",
   "language": "python",
   "name": "python3"
  },
  "language_info": {
   "codemirror_mode": {
    "name": "ipython",
    "version": 3
   },
   "file_extension": ".py",
   "mimetype": "text/x-python",
   "name": "python",
   "nbconvert_exporter": "python",
   "pygments_lexer": "ipython3",
   "version": "3.6.2"
  }
 },
 "nbformat": 4,
 "nbformat_minor": 2
}
