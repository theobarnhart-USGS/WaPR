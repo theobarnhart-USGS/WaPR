{
 "cells": [
  {
   "cell_type": "markdown",
   "metadata": {},
   "source": [
    "### Script to reprocess the Haines IHS data tiffs"
   ]
  },
  {
   "cell_type": "code",
   "execution_count": 1,
   "metadata": {
    "collapsed": true
   },
   "outputs": [],
   "source": [
    "import gdal\n",
    "import subprocess\n",
    "import ntpath"
   ]
  },
  {
   "cell_type": "code",
   "execution_count": 2,
   "metadata": {
    "collapsed": true
   },
   "outputs": [],
   "source": [
    "files = glob.glob('../UOG/data/haines_tiffs/treatment_water_*.tif')"
   ]
  },
  {
   "cell_type": "code",
   "execution_count": 3,
   "metadata": {},
   "outputs": [],
   "source": [
    "ndOut = -9999\n",
    "dtype = 'Float64'\n",
    "fl = files[0]\n",
    "pth = fl[:-24]\n",
    "name = 'treatment_water_'\n",
    "ext = '.tiff'"
   ]
  },
  {
   "cell_type": "code",
   "execution_count": 4,
   "metadata": {},
   "outputs": [],
   "source": [
    "def reprocess(fl):\n",
    "    ds = gdal.Open(fl,gdal.GA_ReadOnly)\n",
    "    nd = ds.GetRasterBand(1).GetNoDataValue()\n",
    "    year = int(fl.split('/')[-1].split('_')[-1].split('.')[0])\n",
    "    outname = '%s%s%s_%s%s'%(pth,name,year,dtype,ext)\n",
    "    print(outname)\n",
    "    cmd = 'gdalwarp -srcnodata %s -dstnodata %s -ot %s %s %s'%(nd,ndOut,dtype,fl,outname)\n",
    "    subprocess.call(cmd,)"
   ]
  },
  {
   "cell_type": "code",
   "execution_count": 5,
   "metadata": {},
   "outputs": [
    {
     "name": "stdout",
     "output_type": "stream",
     "text": [
      "../UOG/data/haines_tiffs/treatment_water_1980_Float64.tiff\n",
      "../UOG/data/haines_tiffs/treatment_water_1981_Float64.tiff\n",
      "../UOG/data/haines_tiffs/treatment_water_1982_Float64.tiff\n",
      "../UOG/data/haines_tiffs/treatment_water_1983_Float64.tiff\n",
      "../UOG/data/haines_tiffs/treatment_water_1984_Float64.tiff\n",
      "../UOG/data/haines_tiffs/treatment_water_1985_Float64.tiff\n",
      "../UOG/data/haines_tiffs/treatment_water_1986_Float64.tiff\n",
      "../UOG/data/haines_tiffs/treatment_water_1987_Float64.tiff\n",
      "../UOG/data/haines_tiffs/treatment_water_1988_Float64.tiff\n",
      "../UOG/data/haines_tiffs/treatment_water_1989_Float64.tiff\n",
      "../UOG/data/haines_tiffs/treatment_water_1990_Float64.tiff\n",
      "../UOG/data/haines_tiffs/treatment_water_1991_Float64.tiff\n",
      "../UOG/data/haines_tiffs/treatment_water_1992_Float64.tiff\n",
      "../UOG/data/haines_tiffs/treatment_water_1993_Float64.tiff\n",
      "../UOG/data/haines_tiffs/treatment_water_1994_Float64.tiff\n",
      "../UOG/data/haines_tiffs/treatment_water_1995_Float64.tiff\n",
      "../UOG/data/haines_tiffs/treatment_water_1996_Float64.tiff\n",
      "../UOG/data/haines_tiffs/treatment_water_1997_Float64.tiff\n",
      "../UOG/data/haines_tiffs/treatment_water_1998_Float64.tiff\n",
      "../UOG/data/haines_tiffs/treatment_water_1999_Float64.tiff\n",
      "../UOG/data/haines_tiffs/treatment_water_2000_Float64.tiff\n",
      "../UOG/data/haines_tiffs/treatment_water_2001_Float64.tiff\n",
      "../UOG/data/haines_tiffs/treatment_water_2002_Float64.tiff\n",
      "../UOG/data/haines_tiffs/treatment_water_2003_Float64.tiff\n",
      "../UOG/data/haines_tiffs/treatment_water_2004_Float64.tiff\n",
      "../UOG/data/haines_tiffs/treatment_water_2005_Float64.tiff\n",
      "../UOG/data/haines_tiffs/treatment_water_2006_Float64.tiff\n",
      "../UOG/data/haines_tiffs/treatment_water_2007_Float64.tiff\n",
      "../UOG/data/haines_tiffs/treatment_water_2008_Float64.tiff\n",
      "../UOG/data/haines_tiffs/treatment_water_2009_Float64.tiff\n",
      "../UOG/data/haines_tiffs/treatment_water_2010_Float64.tiff\n",
      "../UOG/data/haines_tiffs/treatment_water_2011_Float64.tiff\n",
      "../UOG/data/haines_tiffs/treatment_water_2012_Float64.tiff\n",
      "../UOG/data/haines_tiffs/treatment_water_2013_Float64.tiff\n",
      "../UOG/data/haines_tiffs/treatment_water_2014_Float64.tiff\n",
      "../UOG/data/haines_tiffs/treatment_water_2015_Float64.tiff\n",
      "../UOG/data/haines_tiffs/treatment_water_2016_Float64.tiff\n"
     ]
    }
   ],
   "source": [
    "for fl in files:\n",
    "    reprocess(fl)"
   ]
  },
  {
   "cell_type": "code",
   "execution_count": null,
   "metadata": {
    "collapsed": true
   },
   "outputs": [],
   "source": []
  }
 ],
 "metadata": {
  "kernelspec": {
   "display_name": "Python 3",
   "language": "python",
   "name": "python3"
  },
  "language_info": {
   "codemirror_mode": {
    "name": "ipython",
    "version": 3
   },
   "file_extension": ".py",
   "mimetype": "text/x-python",
   "name": "python",
   "nbconvert_exporter": "python",
   "pygments_lexer": "ipython3",
   "version": "3.6.2"
  }
 },
 "nbformat": 4,
 "nbformat_minor": 2
}
